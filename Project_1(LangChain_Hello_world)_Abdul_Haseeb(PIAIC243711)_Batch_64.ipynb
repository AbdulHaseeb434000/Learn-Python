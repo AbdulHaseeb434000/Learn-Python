{
  "nbformat": 4,
  "nbformat_minor": 0,
  "metadata": {
    "colab": {
      "provenance": [],
      "authorship_tag": "ABX9TyMprDuRmtpoqlYO6cOw1y6L",
      "include_colab_link": true
    },
    "kernelspec": {
      "name": "python3",
      "display_name": "Python 3"
    },
    "language_info": {
      "name": "python"
    }
  },
  "cells": [
    {
      "cell_type": "markdown",
      "metadata": {
        "id": "view-in-github",
        "colab_type": "text"
      },
      "source": [
        "<a href=\"https://colab.research.google.com/github/AbdulHaseeb434000/Learn-Python/blob/main/Project_1(LangChain_Hello_world)_Abdul_Haseeb(PIAIC243711)_Batch_64.ipynb\" target=\"_parent\"><img src=\"https://colab.research.google.com/assets/colab-badge.svg\" alt=\"Open In Colab\"/></a>"
      ]
    },
    {
      "cell_type": "code",
      "execution_count": 39,
      "metadata": {
        "id": "Ol0QE5yK_WFT"
      },
      "outputs": [],
      "source": [
        "# Installing Langchain with Google GenAI SDK\n",
        "!pip install -qU langchain-google-genai"
      ]
    },
    {
      "cell_type": "code",
      "source": [
        "#importing necessary modules and userdata from colab\n",
        "from google.colab import userdata\n",
        "from langchain_google_genai import ChatGoogleGenerativeAI\n",
        "import os\n",
        "import getpass"
      ],
      "metadata": {
        "id": "Ccm17GdS_x0a"
      },
      "execution_count": 36,
      "outputs": []
    },
    {
      "cell_type": "code",
      "source": [
        "# Getting API key from userdata and Saving API key in a variable\n",
        "key = userdata.get('GOOGLE_API_KEY')"
      ],
      "metadata": {
        "id": "cCkAxigzALHz"
      },
      "execution_count": 48,
      "outputs": []
    },
    {
      "cell_type": "code",
      "source": [
        "# Defining LLM for our project\n",
        "model = \"gemini-2.0-flash-exp\"\n",
        "llm = ChatGoogleGenerativeAI(model=model,temperature = 0.7,key=key)"
      ],
      "metadata": {
        "id": "yK9ncJk9DNRT"
      },
      "execution_count": 45,
      "outputs": []
    },
    {
      "cell_type": "code",
      "source": [
        "# Getting a respose from LLM\n",
        "practice_response = llm.invoke(\"What's new in Gemini 2.0\")\n",
        "practice_response.content"
      ],
      "metadata": {
        "colab": {
          "base_uri": "https://localhost:8080/",
          "height": 140
        },
        "id": "4UuhIg09FRtl",
        "outputId": "6c9e6e71-8f3c-4bf9-b099-5c83bc17e386"
      },
      "execution_count": 46,
      "outputs": [
        {
          "output_type": "execute_result",
          "data": {
            "text/plain": [
              "'Okay, let\\'s break down what\\'s new with Gemini 2.0. It\\'s important to note that \"Gemini 2.0\" isn\\'t a single, official release. Instead, it\\'s more of a conceptual label that refers to the ongoing advancements and improvements Google is making to the Gemini family of models. Think of it as a continuous evolution rather than a singular version jump.\\n\\nHere\\'s a breakdown of what\\'s generally considered to be \"new\" or improved within the Gemini ecosystem, often associated with the idea of \"Gemini 2.0\":\\n\\n**Key Areas of Advancement:**\\n\\n* **Improved Performance:**\\n    * **Across the Board:** Expect to see improvements in performance across a wide range of tasks, including:\\n        * **Natural Language Understanding (NLU):** Better comprehension of nuanced language, context, and intent.\\n        * **Natural Language Generation (NLG):** More coherent, creative, and contextually relevant text generation.\\n        * **Reasoning and Problem Solving:** Enhanced ability to tackle complex problems requiring logical deduction and critical thinking.\\n        * **Coding:** More accurate and efficient code generation in various programming languages.\\n        * **Multimodal Capabilities:** Improved handling of inputs and outputs involving text, images, audio, and video.\\n    * **Specific Benchmarks:** Google is likely targeting improved scores on various industry benchmarks to demonstrate progress.\\n\\n* **Enhanced Multimodality:**\\n    * **Seamless Integration:** Moving towards a more seamless experience where the model can effortlessly process and understand information from different modalities.\\n    * **Complex Interactions:** The ability to perform more complex tasks that involve combining information from multiple sources (e.g., analyzing a video with accompanying text commentary).\\n    * **Improved Understanding of Images and Audio:** Expect more accurate and detailed interpretations of visual and auditory data.\\n\\n* **Increased Efficiency and Scalability:**\\n    * **Faster Inference:** Aiming for faster response times, making the models more practical for real-time applications.\\n    * **Reduced Resource Consumption:** Optimizing the models to run more efficiently, potentially making them accessible on a wider range of devices.\\n    * **Scalability for Larger Datasets:** Improved ability to handle and learn from massive datasets, leading to better performance.\\n\\n* **Advanced Reasoning and Planning:**\\n    * **Chain-of-Thought Reasoning:** Enhanced ability to break down complex problems into smaller, more manageable steps, leading to more accurate and explainable solutions.\\n    * **Planning Capabilities:** Improvements in the model\\'s ability to plan and execute actions to achieve specific goals.\\n\\n* **Safety and Responsibility:**\\n    * **Reduced Bias:** Ongoing efforts to mitigate biases in the training data and model outputs.\\n    * **Improved Safety Mechanisms:** Implementing more robust safeguards to prevent misuse and generate harmful content.\\n    * **Alignment with Ethical Principles:** Continuous development with a focus on ethical considerations and responsible AI practices.\\n\\n**Specific Examples (Based on what\\'s been announced or speculated):**\\n\\n* **Gemini Ultra Improvements:** Potential advancements in the most powerful version of Gemini, aimed at pushing the boundaries of AI performance.\\n* **Gemini Pro Enhancements:** Likely upgrades to the more accessible version, making it even more versatile and useful for a broader range of applications.\\n* **Mobile and Edge Optimization:** Focus on making Gemini models more efficient and accessible on mobile devices and edge computing platforms.\\n* **Integration with Google Products:** Expect deeper integration of Gemini capabilities into existing Google services like Search, Gmail, Workspace, and more.\\n\\n**Important Considerations:**\\n\\n* **Evolving Landscape:** The AI field is rapidly evolving, and Google is constantly making improvements to their models. What\\'s considered \"Gemini 2.0\" today might be surpassed by newer developments tomorrow.\\n* **Gradual Rollout:** Improvements are typically rolled out gradually, so you might not see all the changes immediately in every application.\\n* **Official Announcements:** The best way to stay up-to-date is to follow Google\\'s official announcements and research publications.\\n\\n**In Summary:**\\n\\n\"Gemini 2.0\" represents a significant step forward in the evolution of Google\\'s Gemini family of models. It\\'s characterized by improvements across various dimensions, including performance, multimodality, efficiency, reasoning, and safety. While there isn\\'t a single, official release labeled \"Gemini 2.0,\" the ongoing advancements are pushing the boundaries of what\\'s possible with AI.\\n\\nKeep an eye on Google\\'s official channels for the latest updates and announcements regarding the Gemini family of models!\\n'"
            ],
            "application/vnd.google.colaboratory.intrinsic+json": {
              "type": "string"
            }
          },
          "metadata": {},
          "execution_count": 46
        }
      ]
    }
  ]
}